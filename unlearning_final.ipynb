{
 "cells": [
  {
   "cell_type": "code",
   "execution_count": null,
   "metadata": {},
   "outputs": [],
   "source": [
    "#python3 main.py  --dataset lacuna100binary128 --model resnetsmooth --dataroot data/lacuna100binary128/ --epochs 100 --lr 0.1 --batch-size 256 --compute-lipschitz --scheduler 0.9 --model-selection --save-checkpoints\n",
    "#python3 main.py  --dataset eicu --model mlp --dataroot data/eicu/ --epochs 100 --lr 0.1 --batch-size 512 --model-selection --scheduler 0.9 --compute-lipschitz --save-checkpoints"
   ]
  },
  {
   "cell_type": "code",
   "execution_count": null,
   "metadata": {},
   "outputs": [],
   "source": [
    "# for retraining from scratch\n",
    "#python3 main.py  --dataset lacuna100binary128 --model resnetsmooth --dataroot data/lacuna100binary128/ --epochs 82 --lr 0.1 --batch-size 256 --scheduler 0.9 --num-ids-forget 2 --resume checkpoints/lacuna100binary128_resnetsmooth_1_0_forget_None_lr_0_1_bs_256_ls_ce_seed_1_scheduler_0_9_init.pt \n",
    "#python3 main.py  --dataset eicu --model mlp --dataroot data/eicu/ --epochs 51 --lr 0.1 --batch-size 512 --plot --scheduler 0.9 --num-ids-forget 940 --resume checkpoints/eicu_mlp_1_0_forget_None_lr_0_1_bs_512_ls_ce_seed_1_scheduler_0_9_init.pt  "
   ]
  },
  {
   "cell_type": "code",
   "execution_count": null,
   "metadata": {},
   "outputs": [],
   "source": [
    "#baseline methods\n",
    "#python3 hf_train.py --dataset lacuna100binary128 --model resnetsmooth --dataroot data/lacuna100binary128/ --lr 0.1 --batch_size 256 --epochs 2\n",
    "#python3 cns_train.py --dataset lacuna100binary128 --model resnetsmooth --dataroot data/lacuna100binary128/ --C 21 \n",
    "#python3 cns_unlearning.py --dataset lacuna100binary128 --model resnetsmooth --dataroot data/lacuna100binary128/ --C 21 --num-ids-forget 2\n",
    "#python3 cns_unlearning.py --dataset eicu --dataroot data/eicu/ --model mlp --C 10 --num-ids-forget 940"
   ]
  }
 ],
 "metadata": {
  "kernelspec": {
   "display_name": "mul-env",
   "language": "python",
   "name": "python3"
  },
  "language_info": {
   "codemirror_mode": {
    "name": "ipython",
    "version": 3
   },
   "file_extension": ".py",
   "mimetype": "text/x-python",
   "name": "python",
   "nbconvert_exporter": "python",
   "pygments_lexer": "ipython3",
   "version": "3.12.5"
  }
 },
 "nbformat": 4,
 "nbformat_minor": 2
}
