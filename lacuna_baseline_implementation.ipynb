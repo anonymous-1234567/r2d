{
 "cells": [
  {
   "cell_type": "code",
   "execution_count": 1,
   "id": "f5375255-5b0f-4acd-82bf-50e4e9884abb",
   "metadata": {},
   "outputs": [],
   "source": [
    "#MODIFIED large_scale_unlearning.ipynb from https://github.com/meghdadk/SCRUB/blob/main/large_scale_unlearning.ipynb\n",
    "\n",
    "import os\n",
    "import time\n",
    "import math\n",
    "import pandas as pd\n",
    "from collections import OrderedDict\n",
    "from sklearn.linear_model import LogisticRegression\n",
    "    \n",
    "import numpy as np\n",
    "import random \n",
    "import copy\n",
    "import torch\n",
    "import torch.nn as nn\n",
    "from typing import List\n",
    "import itertools\n",
    "#from tqdm.autonotebook import tqdm\n",
    "from tqdm import tqdm\n",
    "\n",
    "import pickle\n",
    "\n",
    "\n",
    "import models\n",
    "import datasets"
   ]
  },
  {
   "cell_type": "code",
   "execution_count": 2,
   "id": "61ef342d-38a4-4188-8b66-07033d0c717f",
   "metadata": {},
   "outputs": [],
   "source": [
    "#from models import *\n",
    "#import models\n",
    "#from logger import *\n",
    "\n",
    "from SCRUB.helper.util import adjust_learning_rate as sgda_adjust_learning_rate\n",
    "from SCRUB.distiller_zoo.KD import DistillKL\n",
    "\n",
    "from SCRUB.helper.loops import train_distill, train_vanilla, validate\n",
    "from SCRUB.helper.pretrain import init\n",
    "from SCRUB.helper.util import AverageMeter"
   ]
  },
  {
   "cell_type": "code",
   "execution_count": 3,
   "id": "2aae5db3-7a9e-4e35-b686-f8ceb21d5d95",
   "metadata": {},
   "outputs": [],
   "source": [
    "checkpoint_name = 'lacuna100binary128_resnetsmooth_1_0_forget_None_lr_0_01_bs_512_ls_ce_seed_1_scheduler_1'"
   ]
  },
  {
   "cell_type": "code",
   "execution_count": 4,
   "id": "6baf8e6b-b057-4c23-bcbb-d7a8bf7d3f27",
   "metadata": {},
   "outputs": [],
   "source": [
    "with open(f'logs/{checkpoint_name}.pkl', 'rb') as f:\n",
    "    train_dict = pickle.load(f)\n"
   ]
  },
  {
   "cell_type": "code",
   "execution_count": 5,
   "id": "69185fd1-325a-4937-bc24-c2c336cb5fa4",
   "metadata": {},
   "outputs": [],
   "source": [
    "# eta = 0.01\n",
    "# n = 32000\n",
    "\n",
    "# batch_size = train_dict['batch_size']\n",
    "# Nepochs = train_dict['selected epoch']+1\n",
    "# Nbatches = math.ceil(n/batch_size)\n",
    "\n",
    "# T = Nepochs * Nbatches\n",
    "\n",
    "seed = 1"
   ]
  },
  {
   "cell_type": "code",
   "execution_count": 6,
   "id": "1718e64f-5c40-458d-a97c-e9f2779e4530",
   "metadata": {},
   "outputs": [],
   "source": [
    "use_cuda = torch.cuda.is_available()\n",
    "device = torch.device(\"cuda:1\" if use_cuda else \"cpu\")\n",
    "\n",
    "\n",
    "\n",
    "\n",
    "checkpoints= [0, 20, 50, 100, 150, 200, 250]\n",
    "checkpoints = [0, 20, 40, 50, 70, 120, 150, 170, 200,220, 250]\n",
    "#checkpointarray=( 40 70 120 170 220 )"
   ]
  },
  {
   "cell_type": "code",
   "execution_count": 7,
   "id": "5f7435f1-8ad4-42c8-8c8b-4f6605c5f48d",
   "metadata": {},
   "outputs": [
    {
     "name": "stdout",
     "output_type": "stream",
     "text": [
      "Forgetting these IDs: [5249, 3520]\n",
      "Number of training samples: 31353\n",
      "Number of validation samples: 7847\n",
      "Number of test samples: 10000\n",
      "Number of ood samples: 10000\n",
      "Number of train forget samples: 647\n",
      "Number of test forget samples: 200\n",
      "Number of test retain samples: 9800\n"
     ]
    }
   ],
   "source": [
    "dataroot = 'data/lacuna100binary128/'\n",
    "loaders = datasets.get_loaders_large('lacuna100binary128', num_ids_forget = 2, batch_size=512, seed=seed, root=dataroot, test=True)"
   ]
  },
  {
   "cell_type": "code",
   "execution_count": 8,
   "id": "5fa0e96b-68e9-407f-b4bc-f5f7256d54a7",
   "metadata": {},
   "outputs": [],
   "source": [
    "train_loader = loaders['train_loader']\n",
    "train_forget_loader = loaders['train_forget_loader']\n",
    "forget_loader = loaders['forget_loader']\n",
    "\n",
    "test_loader = loaders['test_loader']\n",
    "\n",
    "ood_loader = loaders['ood_loader']\n",
    "\n",
    "test_forget_loader = loaders['test_forget_loader']\n",
    "test_retain_loader = loaders['test_retain_loader']"
   ]
  },
  {
   "cell_type": "code",
   "execution_count": 9,
   "id": "4bcedeed-d9cd-446f-85dd-53aa6c528edf",
   "metadata": {},
   "outputs": [],
   "source": [
    "model = models.get_model('resnetsmooth', num_classes=2, filters_percentage=1)\n",
    "model.to(device)\n",
    "\n",
    "og_name = checkpoint_name + '_selected'\n"
   ]
  },
  {
   "cell_type": "code",
   "execution_count": 10,
   "id": "82971590-e3e1-4b73-af7e-9bfd01c45074",
   "metadata": {},
   "outputs": [],
   "source": [
    "retain_loader = train_forget_loader\n",
    "valid_loader = loaders['valid_loader'] "
   ]
  },
  {
   "cell_type": "markdown",
   "id": "bffeb333-959b-4d2b-a9d9-1b7c40b10eb1",
   "metadata": {},
   "source": [
    "## Load checkpoints"
   ]
  },
  {
   "cell_type": "code",
   "execution_count": 11,
   "id": "ca70dc06-c98f-4b4c-8c88-1334a2bd2bf7",
   "metadata": {},
   "outputs": [],
   "source": [
    "import copy\n",
    "model0 = copy.deepcopy(model)\n",
    "\n",
    "m_name = og_name #f'checkpoints/{dataset}_{arch_filters}_forget_None{unfreeze_tag}{augment_tag}{learningrate}{batch_size}{lossfn}{wd}{seed_name}{training_epochs}.pt'\n",
    "#m0_name = full_retrain_name#f'checkpoints/{dataset}_{arch_filters}_forget_{class_to_forget}{num_tag}{unfreeze_tag}{augment_tag}{learningrate}{batch_size}{lossfn}{wd}{seed_name}{training_epochs}.pt'\n",
    "\n",
    "model.load_state_dict(torch.load('checkpoints/' + m_name + '.pt', weights_only='True'))\n",
    "#model0.load_state_dict(torch.load('checkpoints/' + m0_name + '.pt', weights_only='True'))\n",
    "\n",
    "\n",
    "model.cuda()\n",
    "#model0.cuda()\n",
    "\n",
    "\n",
    "for p in model.parameters(): #what is the point of this\n",
    "    p.data0 = p.data.clone()\n",
    "#for p in model0.parameters():\n",
    "#    p.data0 = p.data.clone()\n",
    "\n",
    "teacher = copy.deepcopy(model)\n",
    "student = copy.deepcopy(model)"
   ]
  },
  {
   "cell_type": "markdown",
   "id": "89dd0abc-5af7-4f88-a395-1f00daaa3f50",
   "metadata": {},
   "source": [
    "# SCRUB Forgetting"
   ]
  },
  {
   "cell_type": "code",
   "execution_count": 12,
   "id": "4ccfd5c7-b69f-4283-b59a-cd9f129baa02",
   "metadata": {},
   "outputs": [],
   "source": [
    "from argparse import Namespace\n",
    "\n",
    "# start with an empty Namespace\n",
    "args = Namespace()"
   ]
  },
  {
   "cell_type": "code",
   "execution_count": 13,
   "id": "ea84a648-7375-40f4-96df-1c7946f93497",
   "metadata": {},
   "outputs": [],
   "source": [
    "#large-scale hyperparameters\n",
    "args.optim = 'sgd'\n",
    "args.gamma = 0.99\n",
    "args.alpha = 0.001\n",
    "args.beta = 0\n",
    "args.smoothing = 0.0\n",
    "args.msteps = 2\n",
    "args.clip = 0.2\n",
    "args.sstart = 10\n",
    "args.kd_T = 4\n",
    "args.distill = 'kd'\n",
    "\n",
    "args.sgda_batch_size = 128\n",
    "args.del_batch_size = 32\n",
    "args.sgda_epochs = 3\n",
    "args.sgda_epochs = 10\n",
    "args.sgda_learning_rate = 0.0005\n",
    "args.lr_decay_epochs = [3,5,9]\n",
    "args.lr_decay_rate = 0.1\n",
    "args.sgda_weight_decay = 5e-4\n",
    "args.sgda_momentum = 0.9"
   ]
  },
  {
   "cell_type": "code",
   "execution_count": 14,
   "id": "330fd3c3-1fdd-476c-a845-d65ce38d5373",
   "metadata": {},
   "outputs": [],
   "source": [
    "model_t = copy.deepcopy(teacher)\n",
    "model_s = copy.deepcopy(student)"
   ]
  },
  {
   "cell_type": "code",
   "execution_count": 15,
   "id": "2bf857b4-e94c-4e81-9d37-fbc2ca3c778d",
   "metadata": {},
   "outputs": [],
   "source": [
    "module_list = nn.ModuleList([])\n",
    "module_list.append(model_s)\n",
    "trainable_list = nn.ModuleList([])\n",
    "trainable_list.append(model_s)\n",
    "\n",
    "criterion_cls = nn.CrossEntropyLoss()\n",
    "criterion_div = DistillKL(args.kd_T)\n",
    "criterion_kd = DistillKL(args.kd_T)\n",
    "\n",
    "\n",
    "criterion_list = nn.ModuleList([])\n",
    "criterion_list.append(criterion_cls)    # classification loss\n",
    "criterion_list.append(criterion_div)    # KL divergence loss, original knowledge distillation\n",
    "criterion_list.append(criterion_kd)     # other knowledge distillation loss\n",
    "\n",
    "# optimizer\n",
    "if args.optim == \"sgd\":\n",
    "    optimizer = torch.optim.SGD(trainable_list.parameters(),\n",
    "                          lr=args.sgda_learning_rate,\n",
    "                          momentum=args.sgda_momentum,\n",
    "                          weight_decay=args.sgda_weight_decay)\n",
    "elif args.optim == \"adam\": \n",
    "    optimizer = torch.optim.Adam(trainable_list.parameters(),\n",
    "                          lr=args.sgda_learning_rate,\n",
    "                          weight_decay=args.sgda_weight_decay)\n",
    "elif args.optim == \"rmsp\":\n",
    "    optimizer = torch.optim.RMSprop(trainable_list.parameters(),\n",
    "                          lr=args.sgda_learning_rate,\n",
    "                          momentum=args.sgda_momentum,\n",
    "                          weight_decay=args.sgda_weight_decay)"
   ]
  },
  {
   "cell_type": "code",
   "execution_count": 16,
   "id": "ed1bff2d-ca1d-4474-942d-77f1bf02ea0d",
   "metadata": {},
   "outputs": [],
   "source": [
    "module_list.append(model_t)\n",
    "\n",
    "if torch.cuda.is_available():\n",
    "    module_list.cuda()\n",
    "    criterion_list.cuda()\n",
    "    import torch.backends.cudnn as cudnn\n",
    "    cudnn.benchmark = True"
   ]
  },
  {
   "cell_type": "code",
   "execution_count": 17,
   "id": "9f8d94c4-e1a2-4668-a00e-5891fa8c9bce",
   "metadata": {},
   "outputs": [
    {
     "name": "stdout",
     "output_type": "stream",
     "text": [
      "==> SCRUB unlearning ...\n"
     ]
    },
    {
     "name": "stderr",
     "output_type": "stream",
     "text": [
      "/nfs/home/smg5501/.conda/envs/myenv/lib/python3.9/site-packages/torch/nn/_reduction.py:51: UserWarning: size_average and reduce args will be deprecated, please use reduction='sum' instead.\n",
      "  warnings.warn(warning.format(ret))\n"
     ]
    },
    {
     "name": "stdout",
     "output_type": "stream",
     "text": [
      " * Acc@1 98.145 \n",
      "maximize loss: -0.0000000251\t minimize loss: 0.05\t train_acc: 98.1452865600586\n",
      "==> SCRUB unlearning ...\n",
      " * Acc@1 99.073 \n",
      "maximize loss: -0.0033259138\t minimize loss: 0.04\t train_acc: 99.07263946533203\n",
      "==> SCRUB unlearning ...\n",
      " * Acc@1 98.609 \n",
      "maximize loss: 0.0000000000\t minimize loss: 0.04\t train_acc: 98.60896301269531\n",
      "==> SCRUB unlearning ...\n",
      " * Acc@1 98.918 \n",
      "maximize loss: 0.0000000000\t minimize loss: 0.04\t train_acc: 98.91808319091797\n",
      "==> SCRUB unlearning ...\n",
      " * Acc@1 99.227 \n",
      "maximize loss: 0.0000000000\t minimize loss: 0.04\t train_acc: 99.2271957397461\n",
      "==> SCRUB unlearning ...\n",
      " * Acc@1 99.382 \n",
      "maximize loss: 0.0000000000\t minimize loss: 0.04\t train_acc: 99.38175964355469\n",
      "==> SCRUB unlearning ...\n",
      " * Acc@1 99.382 \n",
      "maximize loss: 0.0000000000\t minimize loss: 0.04\t train_acc: 99.38175964355469\n",
      "==> SCRUB unlearning ...\n",
      " * Acc@1 99.382 \n",
      "maximize loss: 0.0000000000\t minimize loss: 0.04\t train_acc: 99.38175964355469\n",
      "==> SCRUB unlearning ...\n",
      " * Acc@1 99.382 \n",
      "maximize loss: 0.0000000000\t minimize loss: 0.04\t train_acc: 99.38175964355469\n",
      "==> SCRUB unlearning ...\n",
      " * Acc@1 99.382 \n",
      "maximize loss: 0.0000000000\t minimize loss: 0.04\t train_acc: 99.38175964355469\n"
     ]
    }
   ],
   "source": [
    "acc_rs = []\n",
    "acc_fs = []\n",
    "acc_ts = []\n",
    "acc_vs = []\n",
    "for epoch in range(1, args.sgda_epochs + 1):\n",
    "\n",
    "    lr = sgda_adjust_learning_rate(epoch, args, optimizer)\n",
    "\n",
    "    print(\"==> SCRUB unlearning ...\")\n",
    "\n",
    "    acc_r, acc5_r, loss_r = validate(retain_loader, model_s, criterion_cls, args, True)\n",
    "    acc_f, acc5_f, loss_f = validate(forget_loader, model_s, criterion_cls, args, True)\n",
    "    acc_v, acc5_v, loss_v = validate(valid_loader, model_s, criterion_cls, args, True)\n",
    "    acc_rs.append(100-acc_r.item())\n",
    "    acc_fs.append(100-acc_f.item())\n",
    "    acc_vs.append(100-acc_v.item())\n",
    "\n",
    "    maximize_loss = 0\n",
    "    if epoch <= args.msteps:\n",
    "        maximize_loss = train_distill(epoch, forget_loader, module_list, None, criterion_list, optimizer, args, \"maximize\")\n",
    "    train_acc, train_loss = train_distill(epoch, retain_loader, module_list, None, criterion_list, optimizer, args, \"minimize\")\n",
    "\n",
    "    \n",
    "    print (\"maximize loss: {:.10f}\\t minimize loss: {:.2f}\\t train_acc: {}\".format(maximize_loss, train_loss, train_acc))\n",
    "acc_r, acc5_r, loss_r = validate(retain_loader, model_s, criterion_cls, args, True)\n",
    "acc_f, acc5_f, loss_f = validate(forget_loader, model_s, criterion_cls, args, True)\n",
    "acc_v, acc5_v, loss_v = validate(valid_loader, model_s, criterion_cls, args, True)\n",
    "acc_rs.append(100-acc_r.item())\n",
    "acc_fs.append(100-acc_f.item())\n",
    "acc_vs.append(100-acc_v.item())"
   ]
  },
  {
   "cell_type": "code",
   "execution_count": 18,
   "id": "bad1d517-0929-4efd-b97a-8eba73a30838",
   "metadata": {},
   "outputs": [],
   "source": [
    " torch.save(model_s.state_dict(), f\"other_baselines/SCRUB_{checkpoint_name}.pt\") "
   ]
  },
  {
   "cell_type": "code",
   "execution_count": 19,
   "id": "50012306-8128-45c0-9560-56ea0238f129",
   "metadata": {},
   "outputs": [
    {
     "data": {
      "image/png": "[encoded data removed]",
      "text/plain": [
       "<Figure size 640x480 with 1 Axes>"
      ]
     },
     "metadata": {},
     "output_type": "display_data"
    }
   ],
   "source": [
    "from matplotlib import pyplot as plt\n",
    "indices = list(range(0,len(acc_rs)))\n",
    "plt.plot(indices, acc_rs, marker='*', alpha=1, label='retain-set')\n",
    "plt.plot(indices, acc_fs, marker='o', alpha=1, label='forget-set')\n",
    "plt.plot(indices, acc_vs, marker='.', alpha=1, label='valid-set')\n",
    "plt.legend(prop={'size': 14})\n",
    "plt.tick_params(labelsize=12)\n",
    "plt.title('SCRUB retain-, valid- and forget- set error',size=18)\n",
    "plt.xlabel('epoch',size=14)\n",
    "plt.ylabel('error',size=14)\n",
    "plt.show()"
   ]
  },
  {
   "cell_type": "markdown",
   "id": "28150f0a-d5c5-4dcb-a065-19fa0094f869",
   "metadata": {},
   "source": [
    "# Fisher"
   ]
  },
  {
   "cell_type": "code",
   "execution_count": 21,
   "id": "05fdf366-461f-400a-a58f-cfe461beb35f",
   "metadata": {},
   "outputs": [],
   "source": [
    "model.load_state_dict(torch.load('checkpoints/' + og_name + '.pt', weights_only='True'))\n",
    "\n",
    "modelf = copy.deepcopy(model)\n",
    "#modelf0 = copy.deepcopy(model0)\n",
    "\n",
    "modelf.to(device)\n",
    "\n",
    "for p in itertools.chain(modelf.parameters()):\n",
    "    p.data0 = copy.deepcopy(p.data.clone())"
   ]
  },
  {
   "cell_type": "code",
   "execution_count": 22,
   "id": "8ee5f2b9-3d79-4f13-83b0-5f45b6f38988",
   "metadata": {},
   "outputs": [],
   "source": [
    "def hessian(dataset, model, device):\n",
    "    model.eval()\n",
    "    train_loader = torch.utils.data.DataLoader(dataset, batch_size=1, shuffle=False)\n",
    "    loss_fn = nn.CrossEntropyLoss()\n",
    "\n",
    "    for p in model.parameters():\n",
    "        p.grad_acc = 0\n",
    "        p.grad2_acc = 0\n",
    "    \n",
    "    for data, orig_target, _ in tqdm(train_loader):\n",
    "        data, orig_target = data.to(device), orig_target.to(device)\n",
    "        output = model(data)\n",
    "        prob = torch.nn.functional.softmax(output, dim=-1).data\n",
    "\n",
    "        for y in range(output.shape[1]):\n",
    "            target = torch.empty_like(orig_target).fill_(y)\n",
    "            loss = loss_fn(output, target)\n",
    "            model.zero_grad()\n",
    "            loss.backward(retain_graph=True)\n",
    "            for p in model.parameters():\n",
    "                if p.requires_grad:\n",
    "                    p.grad_acc += (orig_target == target).float() * p.grad.data\n",
    "                    p.grad2_acc += prob[:, y] * p.grad.data.pow(2)\n",
    "    for p in model.parameters():\n",
    "        p.grad_acc /= len(train_loader)\n",
    "        p.grad2_acc /= len(train_loader)"
   ]
  },
  {
   "cell_type": "code",
   "execution_count": 23,
   "id": "a3dc68ac-6b4e-4ced-9230-0d8d0abb34fe",
   "metadata": {},
   "outputs": [
    {
     "name": "stderr",
     "output_type": "stream",
     "text": [
      "100%|██████████| 647/647 [00:32<00:00, 19.66it/s]\n"
     ]
    }
   ],
   "source": [
    "hessian(retain_loader.dataset, modelf, device)\n",
    "#hessian(retain_loader.dataset, modelf0)"
   ]
  },
  {
   "cell_type": "code",
   "execution_count": 24,
   "id": "6517cbf4-4c14-4c56-9686-bd35cd23b52b",
   "metadata": {},
   "outputs": [],
   "source": [
    "def get_mean_var(p, is_base_dist=False, alpha=3e-6, num_classes=2):\n",
    "    var = copy.deepcopy(1./(p.grad2_acc+1e-8))\n",
    "    var = var.clamp(max=1e3)\n",
    "    if p.size(0) == num_classes:\n",
    "        var = var.clamp(max=1e2)\n",
    "    var = alpha * var\n",
    "    \n",
    "    if p.ndim > 1:\n",
    "        var = var.mean(dim=1, keepdim=True).expand_as(p).clone()\n",
    "    if not is_base_dist:\n",
    "        mu = copy.deepcopy(p.data0.clone())\n",
    "    else:\n",
    "        mu = copy.deepcopy(p.data0.clone())\n",
    "    # if p.size(0) == num_classes and num_to_forget is None:\n",
    "    #     mu[class_to_forget] = 0\n",
    "    #     var[class_to_forget] = 0.0001\n",
    "    if p.size(0) == num_classes:\n",
    "        # Last layer\n",
    "        var *= 10\n",
    "    elif p.ndim == 1:\n",
    "        # BatchNorm\n",
    "        var *= 10\n",
    "#         var*=1\n",
    "    return mu, var\n",
    "\n",
    "def kl_divergence_fisher(mu0, var0, mu1, var1):\n",
    "    return ((mu1 - mu0).pow(2)/var0 + var1/var0 - torch.log(var1/var0) - 1).sum()"
   ]
  },
  {
   "cell_type": "code",
   "execution_count": 25,
   "id": "1fec1fba-69e6-4730-a1ed-cedf0c378c3f",
   "metadata": {},
   "outputs": [],
   "source": [
    "alpha = 1e-8\n",
    "torch.manual_seed(seed)\n",
    "for i, p in enumerate(modelf.parameters()):\n",
    "    mu, var = get_mean_var(p, False, alpha=alpha)\n",
    "    p.data = mu + var.sqrt() * torch.empty_like(p.data0).normal_()\n",
    "\n",
    "# for i, p in enumerate(modelf0.parameters()):\n",
    "#     mu, var = get_mean_var(p, False, alpha=alpha)\n",
    "#     p.data = mu + var.sqrt() * torch.empty_like(p.data0).normal_()\n"
   ]
  },
  {
   "cell_type": "code",
   "execution_count": null,
   "id": "52ccebf8-b029-4117-ad33-134cd4cf05e4",
   "metadata": {},
   "outputs": [],
   "source": []
  },
  {
   "cell_type": "code",
   "execution_count": 26,
   "id": "f70f3b2c-6ea3-4586-83d9-df8570ddd808",
   "metadata": {},
   "outputs": [
    {
     "name": "stdout",
     "output_type": "stream",
     "text": [
      "tensor([3.7350e-06, 3.7350e-06], device='cuda:1')\n"
     ]
    }
   ],
   "source": [
    "print(var)"
   ]
  },
  {
   "cell_type": "code",
   "execution_count": 27,
   "id": "4c456014-3088-4893-b0c0-2bb0d3fa8ff2",
   "metadata": {},
   "outputs": [],
   "source": [
    " torch.save(modelf.state_dict(), f\"other_baselines/Fisher_{checkpoint_name}.pt\") "
   ]
  },
  {
   "cell_type": "markdown",
   "id": "2e94a0c6-f5f0-464f-b54f-1f91dc4ef51a",
   "metadata": {},
   "source": [
    "# Fine Tune "
   ]
  },
  {
   "cell_type": "code",
   "execution_count": 52,
   "id": "befcd3f9-aec2-4ea9-9b7d-382b418c1bb0",
   "metadata": {},
   "outputs": [
    {
     "name": "stderr",
     "output_type": "stream",
     "text": [
      "100%|██████████| 10/10 [09:23<00:00, 56.37s/it]\n"
     ]
    }
   ],
   "source": [
    "\n",
    "import time\n",
    "\n",
    "from utils import *\n",
    "\n",
    "\n",
    "from main import run_epoch_simple\n",
    "\n",
    "def run_epoch_simple(model, data_loader, device, criterion=torch.nn.CrossEntropyLoss(), optimizer=None):\n",
    "    model.train()\n",
    "\n",
    "    with torch.set_grad_enabled(True):\n",
    "\n",
    "        for batch_idx, (data, target, identity) in enumerate(data_loader):\n",
    "            data, target = data.to(device), target.to(device)\n",
    "\n",
    "                \n",
    "            output = model(data)\n",
    "            loss = criterion(output, target) \n",
    "\n",
    "            optimizer.zero_grad() \n",
    "            loss.backward()\n",
    "\n",
    "            optimizer.step()    \n",
    "\n",
    "\n",
    "manual_seed(seed)\n",
    "\n",
    "\n",
    "\n",
    "#get model\n",
    "model.load_state_dict(torch.load('checkpoints/' + m_name + '.pt', weights_only='True'))\n",
    "model.to(device)\n",
    "\n",
    "optimizer = torch.optim.SGD(model.parameters(), lr=0.01, momentum=0, weight_decay=0)\n",
    "\n",
    "\n",
    "criterion = torch.nn.CrossEntropyLoss().to(device)\n",
    "\n",
    "train_time = 0\n",
    "\n",
    "\n",
    "epochs = 10\n",
    "\n",
    "for epoch in tqdm(range(epochs)):\n",
    "\n",
    "    t1 = time.time()\n",
    "\n",
    "    _ = run_epoch_simple(model, train_loader, device, criterion, optimizer)\n",
    "\n",
    "    t2 = time.time()\n",
    "    train_time += np.round(t2-t1,2)\n",
    "\n",
    "\n",
    "\n",
    "\n",
    "torch.save(model.state_dict(), f\"other_baselines/Finetune_{checkpoint_name}.pt\") \n",
    "\n",
    "\n",
    "\n"
   ]
  },
  {
   "cell_type": "code",
   "execution_count": null,
   "id": "849f900d-536a-4823-9259-8d56f7ce3b9e",
   "metadata": {},
   "outputs": [],
   "source": []
  }
 ],
 "metadata": {
  "kernelspec": {
   "display_name": "myenv",
   "language": "python",
   "name": "myenv"
  },
  "language_info": {
   "codemirror_mode": {
    "name": "ipython",
    "version": 3
   },
   "file_extension": ".py",
   "mimetype": "text/x-python",
   "name": "python",
   "nbconvert_exporter": "python",
   "pygments_lexer": "ipython3",
   "version": "3.9.12"
  }
 },
 "nbformat": 4,
 "nbformat_minor": 5
}
