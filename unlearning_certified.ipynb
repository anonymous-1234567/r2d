{
 "cells": [
  {
   "cell_type": "code",
   "execution_count": null,
   "metadata": {},
   "outputs": [],
   "source": [
    "#baseline methods\n",
    "#python3 hf_train.py --dataset lacuna100binary128 --dataroot data/lacuna100binary128/ --model resnetsmooth --num-ids-forget 2 --batch_size 256 --epochs 25 \n",
    "#python3 cns_train.py --dataset eicu --dataroot data/eicu/ --model mlp --C 10 --lr 0.01 --epochs 30\n",
    "#python3 cns_train.py --dataset lacuna100binary128 --model resnetsmooth --dataroot data/lacuna100binary128/ --C 21 \n",
    "#python3 cns_unlearning.py --dataset lacuna100binary128 --dataroot data/lacuna100binary128/ --model resnetsmooth --C 21 --num-ids-forget 2 --gamma 2000\n",
    "#python3 cns_unlearning.py --dataset eicu --dataroot data/eicu/ --model mlp --C 10 --num-ids-forget 940 --gamma 200\n",
    "\n"
   ]
  },
  {
   "cell_type": "code",
   "execution_count": null,
   "metadata": {},
   "outputs": [],
   "source": []
  }
 ],
 "metadata": {
  "kernelspec": {
   "display_name": "mul-env",
   "language": "python",
   "name": "python3"
  },
  "language_info": {
   "codemirror_mode": {
    "name": "ipython",
    "version": 3
   },
   "file_extension": ".py",
   "mimetype": "text/x-python",
   "name": "python",
   "nbconvert_exporter": "python",
   "pygments_lexer": "ipython3",
   "version": "3.12.5"
  }
 },
 "nbformat": 4,
 "nbformat_minor": 2
}
